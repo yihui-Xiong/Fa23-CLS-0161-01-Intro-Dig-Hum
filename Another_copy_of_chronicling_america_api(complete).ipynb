{
  "nbformat": 4,
  "nbformat_minor": 0,
  "metadata": {
    "colab": {
      "provenance": [],
      "private_outputs": true,
      "include_colab_link": true
    },
    "kernelspec": {
      "name": "python3",
      "display_name": "Python 3"
    },
    "language_info": {
      "name": "python"
    }
  },
  "cells": [
    {
      "cell_type": "markdown",
      "metadata": {
        "id": "view-in-github",
        "colab_type": "text"
      },
      "source": [
        "<a href=\"https://colab.research.google.com/github/yihui-Xiong/Fa23-CLS-0161-01-Intro-Dig-Hum/blob/main/Another_copy_of_chronicling_america_api(complete).ipynb\" target=\"_parent\"><img src=\"https://colab.research.google.com/assets/colab-badge.svg\" alt=\"Open In Colab\"/></a>"
      ]
    },
    {
      "cell_type": "code",
      "execution_count": null,
      "metadata": {
        "id": "q0-jsD68ELup"
      },
      "outputs": [],
      "source": [
        "# imports\n",
        "import requests\n",
        "import json\n",
        "import math\n",
        "import pandas as pd\n",
        "import spacy"
      ]
    },
    {
      "cell_type": "code",
      "source": [
        "# initial search\n",
        "url = 'https://chroniclingamerica.loc.gov/search/pages/results/?state=Massachusetts&date1=1770&date2=1865&proxtext=prohibition&x=20&y=8&dateFilterType=yearRange&rows=20&searchType=basic&format=json'\n",
        "response = requests.get(url)\n",
        "raw = response.text\n",
        "results = json.loads(raw)"
      ],
      "metadata": {
        "id": "uoseSCpoEghd"
      },
      "execution_count": null,
      "outputs": []
    },
    {
      "cell_type": "code",
      "source": [
        "results.keys()"
      ],
      "metadata": {
        "id": "Pg-9a2pIKTnO"
      },
      "execution_count": null,
      "outputs": []
    },
    {
      "cell_type": "code",
      "source": [
        "# explore items\n",
        "print(type(results['items']))"
      ],
      "metadata": {
        "id": "jB1fHVUTEcLl"
      },
      "execution_count": null,
      "outputs": []
    },
    {
      "cell_type": "code",
      "source": [
        "print(results['items'][0])"
      ],
      "metadata": {
        "id": "LduCA0d1Etzn"
      },
      "execution_count": null,
      "outputs": []
    },
    {
      "cell_type": "code",
      "source": [
        "print('totalItems:', results['totalItems'])\n",
        "print('endIndex:', results['endIndex'])\n",
        "print('startIndex:', results['startIndex'])\n",
        "print('itemsPerPage:', results['itemsPerPage'])\n",
        "print('Length and type of items:', len(results['items']), type(results['items']))"
      ],
      "metadata": {
        "id": "kIcPNqHuKtJA"
      },
      "execution_count": null,
      "outputs": []
    },
    {
      "cell_type": "code",
      "source": [
        "# find total amount of pages\n",
        "total_pages = math.ceil(results['totalItems'] / results['itemsPerPage'])\n",
        "print(total_pages)"
      ],
      "metadata": {
        "id": "OmJIDL1lKy0g"
      },
      "execution_count": null,
      "outputs": []
    },
    {
      "cell_type": "code",
      "source": [
        "# create empty list for data\n",
        "data = []"
      ],
      "metadata": {
        "id": "C0pZe96qBP_J"
      },
      "execution_count": null,
      "outputs": []
    },
    {
      "cell_type": "code",
      "source": [
        "# set search parameters\n",
        "start_date = '1861'\n",
        "end_date = '1865'\n",
        "search_term = 'Civil War'\n",
        "state = 'Massachusetts'"
      ],
      "metadata": {
        "id": "pg63qYBuBVU3"
      },
      "execution_count": null,
      "outputs": []
    },
    {
      "cell_type": "code",
      "source": [
        "# loop through search results and collect data\n",
        "for i in range(1, 101):\n",
        "    url = (f'https://chroniclingamerica.loc.gov/search/pages/results/?state={state}&date1={start_date}'\n",
        "           f'&date2={end_date}&proxtext={search_term}&x=16&y=8&dateFilterType=yearRange&rows=20'\n",
        "           f'&searchType=basic&format=json&page={i}')  # f-string\n",
        "    response = requests.get(url)\n",
        "    raw = response.text\n",
        "    print(f'page {i} status code:', response.status_code)  # checking for errors\n",
        "    results = json.loads(raw)\n",
        "    items_ = results['items']\n",
        "    for item_ in items_:\n",
        "        row_data = {}\n",
        "        try:\n",
        "          row_data['title'] = item_['title_normal']\n",
        "        except:\n",
        "          row_data['city'] = \"none\"\n",
        "        try:\n",
        "          row_data['city'] = item_['city']\n",
        "        except:\n",
        "          row_data['city'] = \"none\"\n",
        "        try:\n",
        "          row_data['date'] = item_['date']\n",
        "        except:\n",
        "          row_data['date'] = \"none\"\n",
        "        try:\n",
        "          row_data['raw_text'] = item_['ocr_eng']\n",
        "        except:\n",
        "          row_data['raw_text'] = 'none'\n",
        "    data.append(row_data)"
      ],
      "metadata": {
        "id": "Upp6d0I9UDy6"
      },
      "execution_count": null,
      "outputs": []
    },
    {
      "cell_type": "code",
      "source": [
        "# put data into DataFrame\n",
        "df = pd.DataFrame.from_dict(data)"
      ],
      "metadata": {
        "id": "q-ctFdtSBa-u"
      },
      "execution_count": null,
      "outputs": []
    },
    {
      "cell_type": "code",
      "source": [
        "df.head()"
      ],
      "metadata": {
        "id": "prL29Su_msjb"
      },
      "execution_count": null,
      "outputs": []
    },
    {
      "cell_type": "code",
      "source": [
        "# convert date column from string to date-time object\n",
        "df['date'] = pd.to_datetime(df['date'])"
      ],
      "metadata": {
        "id": "z1fENcFaZJIx"
      },
      "execution_count": null,
      "outputs": []
    },
    {
      "cell_type": "code",
      "source": [
        "df.head()"
      ],
      "metadata": {
        "id": "4c0otcZIey1D"
      },
      "execution_count": null,
      "outputs": []
    },
    {
      "cell_type": "code",
      "source": [
        "# sort by date\n",
        "df = df.sort_values(by='date')"
      ],
      "metadata": {
        "id": "wjTfqq38e0XB"
      },
      "execution_count": null,
      "outputs": []
    },
    {
      "cell_type": "code",
      "source": [
        "df.head()"
      ],
      "metadata": {
        "id": "3XYFLmRhe7Gp"
      },
      "execution_count": null,
      "outputs": []
    },
    {
      "cell_type": "code",
      "source": [
        "# write fuction to process text\n",
        "# load nlp model\n",
        "nlp = spacy.load(\"en_core_web_sm\")\n",
        "nlp.disable_pipes('ner', 'parser')  # these are unnecessary for the task at hand\n",
        "\n",
        "def process_text(text):\n",
        "    \"\"\"Remove new line characters and lemmatize text. Returns string of lemmas\"\"\"\n",
        "    text = text.replace('\\n', ' ')\n",
        "    doc = nlp(text)\n",
        "    tokens = [token for token in doc]\n",
        "    no_stops = [token for token in tokens if not token.is_stop]\n",
        "    no_punct = [token for token in no_stops if token.is_alpha]\n",
        "    lemmas = [token.lemma_ for token in no_punct]\n",
        "    lemmas_lower = [lemma.lower() for lemma in lemmas]\n",
        "    lemmas_string = ' '.join(lemmas_lower)\n",
        "    return lemmas_string"
      ],
      "metadata": {
        "id": "m6Urrlffe8ro"
      },
      "execution_count": null,
      "outputs": []
    },
    {
      "cell_type": "code",
      "source": [
        "# apply process_text function\n",
        "df['lemmas'] = df['raw_text'].apply(process_text)"
      ],
      "metadata": {
        "id": "VkQk9wuXfrwM"
      },
      "execution_count": null,
      "outputs": []
    },
    {
      "cell_type": "code",
      "source": [
        "# save to csv\n",
        "df.to_csv(f'/content/{search_term}{start_date}-{end_date}.csv', index=False)"
      ],
      "metadata": {
        "id": "7UU3K6rkfsRM"
      },
      "execution_count": null,
      "outputs": []
    },
    {
      "cell_type": "code",
      "source": [
        "from google.colab import drive\n",
        "drive.mount('/content/drive')"
      ],
      "metadata": {
        "id": "Tlgvk1-RlyJy"
      },
      "execution_count": null,
      "outputs": []
    }
  ]
}