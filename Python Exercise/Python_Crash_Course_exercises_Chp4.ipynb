{
 "cells": [
  {
   "cell_type": "markdown",
   "id": "4966a04b",
   "metadata": {},
   "source": [
    "# Python_Crash_Course_exercises_Chp4\n",
    "4-1, 4-2, 4-3, 4-6, 4-10, 4-11"
   ]
  },
  {
   "cell_type": "markdown",
   "id": "34a3b7e9",
   "metadata": {},
   "source": [
    "4-1. Pizzas"
   ]
  },
  {
   "cell_type": "code",
   "execution_count": 15,
   "id": "a319e71b",
   "metadata": {},
   "outputs": [
    {
     "name": "stdout",
     "output_type": "stream",
     "text": [
      "Neapolitan\n",
      "Sicilian\n",
      "Calzone\n",
      "I like Neapolitan pizza.\n",
      "I like Sicilian pizza.\n",
      "I like Calzone pizza.\n",
      "I really love pizza!\n"
     ]
    }
   ],
   "source": [
    "pizzas = [\"Neapolitan\", \"Sicilian\", \"Calzone\"]\n",
    "\n",
    "for pizza in pizzas:\n",
    "    print(pizza)\n",
    "\n",
    "for pizza in pizzas:\n",
    "    print(f\"I like {pizza} pizza.\")\n",
    "\n",
    "print(\"I really love pizza!\")"
   ]
  },
  {
   "cell_type": "markdown",
   "id": "b07c4d0a",
   "metadata": {},
   "source": [
    "4-2. Animals"
   ]
  },
  {
   "cell_type": "code",
   "execution_count": 16,
   "id": "c17b5833",
   "metadata": {},
   "outputs": [
    {
     "name": "stdout",
     "output_type": "stream",
     "text": [
      "goldfish\n",
      "betta\n",
      "rumble fish\n",
      "A goldfish would make a great pet.\n",
      "A betta would make a great pet.\n",
      "A rumble fish would make a great pet.\n",
      "Any of these animals would make a great pet!\n"
     ]
    }
   ],
   "source": [
    "animals = [\"goldfish\", \"betta\", \"rumble fish\"]\n",
    "\n",
    "for animal in animals:\n",
    "    print(animal)\n",
    "\n",
    "for animal in animals:\n",
    "    print(f\"A {animal} would make a great pet.\")\n",
    "\n",
    "print(\"Any of these animals would make a great pet!\")\n"
   ]
  },
  {
   "cell_type": "markdown",
   "id": "b2111966",
   "metadata": {},
   "source": [
    "4-3. Counting to Twenty"
   ]
  },
  {
   "cell_type": "code",
   "execution_count": 17,
   "id": "e4a97010",
   "metadata": {},
   "outputs": [
    {
     "name": "stdout",
     "output_type": "stream",
     "text": [
      "1\n",
      "2\n",
      "3\n",
      "4\n",
      "5\n",
      "6\n",
      "7\n",
      "8\n",
      "9\n",
      "10\n",
      "11\n",
      "12\n",
      "13\n",
      "14\n",
      "15\n",
      "16\n",
      "17\n",
      "18\n",
      "19\n",
      "20\n"
     ]
    }
   ],
   "source": [
    "for number in range(1, 21):\n",
    "    print(number)"
   ]
  },
  {
   "cell_type": "markdown",
   "id": "efd8be69",
   "metadata": {},
   "source": [
    "4-6. Odd Numbers"
   ]
  },
  {
   "cell_type": "code",
   "execution_count": 18,
   "id": "57a446fc",
   "metadata": {},
   "outputs": [
    {
     "name": "stdout",
     "output_type": "stream",
     "text": [
      "1\n",
      "3\n",
      "5\n",
      "7\n",
      "9\n",
      "11\n",
      "13\n",
      "15\n",
      "17\n",
      "19\n"
     ]
    }
   ],
   "source": [
    "for number in range(1, 21, 2):\n",
    "    print(number)"
   ]
  },
  {
   "cell_type": "markdown",
   "id": "cc42dd74",
   "metadata": {},
   "source": [
    "4-10. Slices"
   ]
  },
  {
   "cell_type": "code",
   "execution_count": 19,
   "id": "7c8dc045",
   "metadata": {},
   "outputs": [
    {
     "name": "stdout",
     "output_type": "stream",
     "text": [
      "The first three items in the list are:\n",
      "['Neapolitan', 'Sicilian', 'Calzone']\n",
      "\n",
      "Three items from the middle of the list are:\n",
      "['Neapolitan', 'Sicilian', 'Calzone']\n",
      "\n",
      "The last three items in the list are:\n",
      "['Neapolitan', 'Sicilian', 'Calzone']\n"
     ]
    }
   ],
   "source": [
    "print(\"The first three items in the list are:\")\n",
    "print(pizzas[:3])\n",
    "\n",
    "print(\"\\nThree items from the middle of the list are:\")\n",
    "middle_index = len(pizzas) // 2\n",
    "print(pizzas[middle_index-1:middle_index+2])\n",
    "\n",
    "print(\"\\nThe last three items in the list are:\")\n",
    "print(pizzas[-3:])"
   ]
  },
  {
   "cell_type": "markdown",
   "id": "9b598cca",
   "metadata": {},
   "source": [
    "4-11. My Pizzas, Your Pizzas"
   ]
  },
  {
   "cell_type": "code",
   "execution_count": 20,
   "id": "329fc8a1",
   "metadata": {},
   "outputs": [
    {
     "name": "stdout",
     "output_type": "stream",
     "text": [
      "My favorite pizzas are:\n",
      "Neapolitan\n",
      "Sicilian\n",
      "Calzone\n",
      "hawaiian\n",
      "\n",
      "My friend’s favorite pizzas are:\n",
      "Neapolitan\n",
      "Sicilian\n",
      "Calzone\n",
      "vegan delight\n"
     ]
    }
   ],
   "source": [
    "friend_pizzas = pizzas.copy()\n",
    "\n",
    "pizzas.append(\"hawaiian\")\n",
    "friend_pizzas.append(\"vegan delight\")\n",
    "\n",
    "print(\"My favorite pizzas are:\")\n",
    "for pizza in pizzas:\n",
    "    print(pizza)\n",
    "\n",
    "print(\"\\nMy friend’s favorite pizzas are:\")\n",
    "for pizza in friend_pizzas:\n",
    "    print(pizza)"
   ]
  }
 ],
 "metadata": {
  "kernelspec": {
   "display_name": "Python 3 (ipykernel)",
   "language": "python",
   "name": "python3"
  },
  "language_info": {
   "codemirror_mode": {
    "name": "ipython",
    "version": 3
   },
   "file_extension": ".py",
   "mimetype": "text/x-python",
   "name": "python",
   "nbconvert_exporter": "python",
   "pygments_lexer": "ipython3",
   "version": "3.11.4"
  }
 },
 "nbformat": 4,
 "nbformat_minor": 5
}
