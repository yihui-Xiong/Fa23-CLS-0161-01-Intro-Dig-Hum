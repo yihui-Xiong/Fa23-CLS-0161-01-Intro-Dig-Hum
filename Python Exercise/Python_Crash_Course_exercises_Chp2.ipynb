{
 "cells": [
  {
   "cell_type": "markdown",
   "id": "9338cd3f",
   "metadata": {},
   "source": [
    "# Python_Crash_Course_exercises_Chp2: \n",
    " 2-1, 2-2, 2-3, 2-4, 2-5, 2-6, 2-7, 2-10"
   ]
  },
  {
   "cell_type": "markdown",
   "id": "2ddfcabd",
   "metadata": {},
   "source": [
    "**2-1. Simple Message:**"
   ]
  },
  {
   "cell_type": "code",
   "execution_count": 3,
   "id": "41ce9563",
   "metadata": {},
   "outputs": [
    {
     "name": "stdout",
     "output_type": "stream",
     "text": [
      "Hello, Python World!\n"
     ]
    }
   ],
   "source": [
    "message = \"Hello, Python World!\"\n",
    "print(message)"
   ]
  },
  {
   "cell_type": "markdown",
   "id": "5a93be9b",
   "metadata": {},
   "source": [
    "**2-2. Simple Messages:**"
   ]
  },
  {
   "cell_type": "code",
   "execution_count": 8,
   "id": "f416bdf9",
   "metadata": {},
   "outputs": [
    {
     "name": "stdout",
     "output_type": "stream",
     "text": [
      "Hello,World!\n",
      "This is fun!\n"
     ]
    }
   ],
   "source": [
    "message = \"Hello,World!\"\n",
    "print(message)\n",
    "\n",
    "message = \"This is fun!\"\n",
    "print(message)"
   ]
  },
  {
   "cell_type": "markdown",
   "id": "056609b0",
   "metadata": {},
   "source": [
    "**2-3. Personal Message:**"
   ]
  },
  {
   "cell_type": "code",
   "execution_count": 10,
   "id": "a4f6332e",
   "metadata": {},
   "outputs": [
    {
     "name": "stdout",
     "output_type": "stream",
     "text": [
      "Hello, Alice! How are you doing today?\n"
     ]
    }
   ],
   "source": [
    "name = \"Alice\"\n",
    "print(f\"Hello, {name}! How are you doing today?\")"
   ]
  },
  {
   "cell_type": "markdown",
   "id": "7f51326c",
   "metadata": {},
   "source": [
    "**2-4. Name Cases:**"
   ]
  },
  {
   "cell_type": "code",
   "execution_count": null,
   "id": "d60b6ff6",
   "metadata": {},
   "outputs": [],
   "source": [
    "name = \"Alice\"\n",
    "print(f\"Hello, {name}! How are you doing today?\")"
   ]
  },
  {
   "cell_type": "markdown",
   "id": "732f7b98",
   "metadata": {},
   "source": [
    "**2-5. Famous Quote:**"
   ]
  },
  {
   "cell_type": "code",
   "execution_count": null,
   "id": "66775bed",
   "metadata": {},
   "outputs": [],
   "source": [
    "print('Albert Einstein once said, “A person who never made a mistake never tried anything new.”')"
   ]
  },
  {
   "cell_type": "markdown",
   "id": "fbb29d96",
   "metadata": {},
   "source": [
    "**2-6. Famous Quote 2:**"
   ]
  },
  {
   "cell_type": "code",
   "execution_count": null,
   "id": "2e3236a7",
   "metadata": {},
   "outputs": [],
   "source": [
    "famous_person = \"Albert Einstein\"\n",
    "message = f'{famous_person} once said, “A person who never made a mistake never tried anything new.”'\n",
    "print(message)"
   ]
  },
  {
   "cell_type": "markdown",
   "id": "e27bff3f",
   "metadata": {},
   "source": [
    "**2-7. Stripping Names:**"
   ]
  },
  {
   "cell_type": "code",
   "execution_count": 15,
   "id": "150276cc",
   "metadata": {},
   "outputs": [
    {
     "name": "stdout",
     "output_type": "stream",
     "text": [
      "\tAlice\n",
      "Smith\t\n"
     ]
    }
   ],
   "source": [
    "name = \"\\tAlice\\nSmith\\t\"\n",
    "print(name)"
   ]
  },
  {
   "cell_type": "code",
   "execution_count": 17,
   "id": "c4af365b",
   "metadata": {},
   "outputs": [
    {
     "name": "stdout",
     "output_type": "stream",
     "text": [
      "Alice\n",
      "Smith\t\n"
     ]
    }
   ],
   "source": [
    "print(name.lstrip())"
   ]
  },
  {
   "cell_type": "code",
   "execution_count": 19,
   "id": "1a31cdc7",
   "metadata": {},
   "outputs": [
    {
     "name": "stdout",
     "output_type": "stream",
     "text": [
      "\tAlice\n",
      "Smith\n"
     ]
    }
   ],
   "source": [
    "print(name.rstrip())"
   ]
  },
  {
   "cell_type": "code",
   "execution_count": 18,
   "id": "0d74a142",
   "metadata": {},
   "outputs": [
    {
     "name": "stdout",
     "output_type": "stream",
     "text": [
      "Alice\n",
      "Smith\n"
     ]
    }
   ],
   "source": [
    "print(name.strip())"
   ]
  },
  {
   "cell_type": "markdown",
   "id": "f3a0776e",
   "metadata": {},
   "source": [
    "**2-8. Number Eight:**"
   ]
  },
  {
   "cell_type": "code",
   "execution_count": 20,
   "id": "c07269cc",
   "metadata": {},
   "outputs": [
    {
     "name": "stdout",
     "output_type": "stream",
     "text": [
      "8\n",
      "8\n",
      "8\n",
      "8.0\n"
     ]
    }
   ],
   "source": [
    "print(5 + 3)\n",
    "print(10 - 2)\n",
    "print(4 * 2)\n",
    "print(16 / 2)"
   ]
  },
  {
   "cell_type": "markdown",
   "id": "1f9de8cd",
   "metadata": {},
   "source": [
    "**2-9. Favorite Number:**"
   ]
  },
  {
   "cell_type": "code",
   "execution_count": 22,
   "id": "6629d7a2",
   "metadata": {},
   "outputs": [
    {
     "name": "stdout",
     "output_type": "stream",
     "text": [
      "My favorite number is 4.\n"
     ]
    }
   ],
   "source": [
    "favorite_number = 4\n",
    "message = f\"My favorite number is {favorite_number}.\"\n",
    "print(message)"
   ]
  },
  {
   "cell_type": "markdown",
   "id": "abfd66e2",
   "metadata": {},
   "source": [
    "**2-10. Adding Comments:**"
   ]
  },
  {
   "cell_type": "code",
   "execution_count": 23,
   "id": "4b1f0836",
   "metadata": {},
   "outputs": [
    {
     "name": "stdout",
     "output_type": "stream",
     "text": [
      "Hello, Alice! How are you doing today?\n"
     ]
    }
   ],
   "source": [
    "# This program stores a person's name and prints a personalized greeting.\n",
    "name = \"Alice\"\n",
    "print(f\"Hello, {name}! How are you doing today?\")"
   ]
  }
 ],
 "metadata": {
  "kernelspec": {
   "display_name": "Python 3 (ipykernel)",
   "language": "python",
   "name": "python3"
  },
  "language_info": {
   "codemirror_mode": {
    "name": "ipython",
    "version": 3
   },
   "file_extension": ".py",
   "mimetype": "text/x-python",
   "name": "python",
   "nbconvert_exporter": "python",
   "pygments_lexer": "ipython3",
   "version": "3.11.4"
  }
 },
 "nbformat": 4,
 "nbformat_minor": 5
}
