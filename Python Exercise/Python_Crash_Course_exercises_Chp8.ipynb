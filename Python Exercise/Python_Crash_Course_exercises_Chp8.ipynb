{
 "cells": [
  {
   "cell_type": "markdown",
   "metadata": {},
   "source": [
    "# Python_Crash_Course_exercises_Chp8\n",
    "8-1, 8-2, 8-3, 8-5, 8-6, 8-7"
   ]
  },
  {
   "cell_type": "code",
   "execution_count": 4,
   "metadata": {},
   "outputs": [
    {
     "name": "stdout",
     "output_type": "stream",
     "text": [
      "This chapter is about functions in Python.\n"
     ]
    }
   ],
   "source": [
    "def display_message():\n",
    "    print(\"This chapter is about functions in Python.\")\n",
    "\n",
    "display_message()\n"
   ]
  },
  {
   "cell_type": "code",
   "execution_count": 5,
   "metadata": {},
   "outputs": [
    {
     "name": "stdout",
     "output_type": "stream",
     "text": [
      "One of my favorite books is The Catcher in the Rye.\n"
     ]
    }
   ],
   "source": [
    "def favorite_book(title):\n",
    "    print(f\"One of my favorite books is {title}.\")\n",
    "\n",
    "favorite_book(\"The Catcher in the Rye\")"
   ]
  },
  {
   "cell_type": "code",
   "execution_count": 6,
   "metadata": {},
   "outputs": [
    {
     "name": "stdout",
     "output_type": "stream",
     "text": [
      "I want a large t-shirt with the message: I solemnly swear that I am up to no good..\n",
      "I want a medium t-shirt with the message: Mischief Managed!.\n"
     ]
    }
   ],
   "source": [
    "def make_shirt(size, message):\n",
    "    print(f\"I want a {size} t-shirt with the message: {message}.\")\n",
    "\n",
    "make_shirt(\"large\", \"I solemnly swear that I am up to no good.\")\n",
    "make_shirt(size=\"medium\", message=\"Mischief Managed!\")"
   ]
  },
  {
   "cell_type": "code",
   "execution_count": 7,
   "metadata": {},
   "outputs": [
    {
     "name": "stdout",
     "output_type": "stream",
     "text": [
      "I want a large t-shirt with the message: After all this time? Always..\n",
      "I want a medium t-shirt with the message: After all this time? Always..\n",
      "I want a small t-shirt with the message: Expelliarmus!.\n"
     ]
    }
   ],
   "source": [
    "def make_shirt(size=\"large\", message=\"After all this time? Always.\"):\n",
    "    print(f\"I want a {size} t-shirt with the message: {message}.\")\n",
    "\n",
    "make_shirt()\n",
    "make_shirt(\"medium\")\n",
    "make_shirt(\"small\", \"Expelliarmus!\")\n"
   ]
  },
  {
   "cell_type": "code",
   "execution_count": 8,
   "metadata": {},
   "outputs": [
    {
     "name": "stdout",
     "output_type": "stream",
     "text": [
      "London is in England.\n",
      "Paris is in France.\n",
      "Hogsmeade is in England.\n"
     ]
    }
   ],
   "source": [
    "def describe_city(city, country=\"England\"):\n",
    "    print(f\"{city} is in {country}.\")\n",
    "\n",
    "describe_city(\"London\")\n",
    "describe_city(\"Paris\", \"France\")\n",
    "describe_city(\"Hogsmeade\")\n"
   ]
  },
  {
   "cell_type": "code",
   "execution_count": 9,
   "metadata": {},
   "outputs": [
    {
     "name": "stdout",
     "output_type": "stream",
     "text": [
      "Hogwarts, Scotland\n",
      "Diagon Alley, London\n",
      "The Burrow, Devon\n"
     ]
    }
   ],
   "source": [
    "def city_country(city, country):\n",
    "    return f\"{city}, {country}\"\n",
    "\n",
    "print(city_country(\"Hogwarts\", \"Scotland\"))\n",
    "print(city_country(\"Diagon Alley\", \"London\"))\n",
    "print(city_country(\"The Burrow\", \"Devon\"))\n"
   ]
  },
  {
   "cell_type": "code",
   "execution_count": 10,
   "metadata": {},
   "outputs": [
    {
     "name": "stdout",
     "output_type": "stream",
     "text": [
      "{'artist': 'The Weird Sisters', 'title': 'Magic Works'}\n",
      "{'artist': 'Celestina Warbeck', 'title': 'You Stole My Cauldron'}\n",
      "{'artist': 'Pepper Imps', 'title': 'Fire Breath', 'tracks': 8}\n"
     ]
    }
   ],
   "source": [
    "def make_album(artist, title, tracks=None):\n",
    "    album = {\"artist\": artist, \"title\": title}\n",
    "    if tracks:\n",
    "        album[\"tracks\"] = tracks\n",
    "    return album\n",
    "\n",
    "print(make_album(\"The Weird Sisters\", \"Magic Works\"))\n",
    "print(make_album(\"Celestina Warbeck\", \"You Stole My Cauldron\"))\n",
    "print(make_album(\"Pepper Imps\", \"Fire Breath\", tracks=8))"
   ]
  },
  {
   "cell_type": "code",
   "execution_count": 11,
   "metadata": {},
   "outputs": [],
   "source": [
    "while True:\n",
    "    artist = input(\"Enter artist's name (or 'q' to quit): \")\n",
    "    if artist == 'q':\n",
    "        break\n",
    "    title = input(\"Enter the album title: \")\n",
    "    print(make_album(artist, title))\n"
   ]
  }
 ],
 "metadata": {
  "kernelspec": {
   "display_name": "Python 3",
   "language": "python",
   "name": "python3"
  },
  "language_info": {
   "codemirror_mode": {
    "name": "ipython",
    "version": 3
   },
   "file_extension": ".py",
   "mimetype": "text/x-python",
   "name": "python",
   "nbconvert_exporter": "python",
   "pygments_lexer": "ipython3",
   "version": "3.11.4"
  }
 },
 "nbformat": 4,
 "nbformat_minor": 2
}
