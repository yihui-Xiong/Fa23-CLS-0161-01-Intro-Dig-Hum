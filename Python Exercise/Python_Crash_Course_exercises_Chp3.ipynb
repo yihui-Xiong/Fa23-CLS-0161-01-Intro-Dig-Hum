{
 "cells": [
  {
   "cell_type": "markdown",
   "id": "0f620804",
   "metadata": {},
   "source": [
    "# Python_Crash_Course_exercises_Chp3\n",
    "3-1, 3-2, 3-3, 3-4, 3-5, 3-6, 3-7, 3-8"
   ]
  },
  {
   "cell_type": "markdown",
   "id": "b4e84e71",
   "metadata": {},
   "source": [
    "3-1. Names:"
   ]
  },
  {
   "cell_type": "code",
   "execution_count": 1,
   "id": "c8dd384e",
   "metadata": {},
   "outputs": [
    {
     "name": "stdout",
     "output_type": "stream",
     "text": [
      "Ponyboy\n",
      "Johnny\n",
      "Dally\n"
     ]
    }
   ],
   "source": [
    "names = [\"Ponyboy\", \"Johnny\", \"Dally\"]\n",
    "for name in names:\n",
    "    print(name)"
   ]
  },
  {
   "cell_type": "markdown",
   "id": "ddd1c4ec",
   "metadata": {},
   "source": [
    "3-2. Greetings:"
   ]
  },
  {
   "cell_type": "code",
   "execution_count": 2,
   "id": "0232fc9a",
   "metadata": {},
   "outputs": [
    {
     "name": "stdout",
     "output_type": "stream",
     "text": [
      "Stay gold, Ponyboy.\n",
      "Stay gold, Johnny.\n",
      "Stay gold, Dally.\n"
     ]
    }
   ],
   "source": [
    "for name in names:\n",
    "    print(f\"Stay gold, {name}.\")"
   ]
  },
  {
   "cell_type": "markdown",
   "id": "c4eced24",
   "metadata": {},
   "source": [
    "3-3. Your Own List:"
   ]
  },
  {
   "cell_type": "code",
   "execution_count": 5,
   "id": "729cdee8",
   "metadata": {},
   "outputs": [
    {
     "name": "stdout",
     "output_type": "stream",
     "text": [
      "I enjoyed reading 'The Outsiders' by S.E. Hinton.\n",
      "I enjoyed reading 'That Was Then, This Is Now' by S.E. Hinton.\n",
      "I enjoyed reading 'Rumble Fish' by S.E. Hinton.\n"
     ]
    }
   ],
   "source": [
    "books = [\"The Outsiders\", \"That Was Then, This Is Now\", \"Rumble Fish\"]\n",
    "for book in books:\n",
    "    print(f\"I enjoyed reading '{book}' by S.E. Hinton.\")"
   ]
  },
  {
   "cell_type": "markdown",
   "id": "9f3a0103",
   "metadata": {},
   "source": [
    "3-4. Guest List:"
   ]
  },
  {
   "cell_type": "code",
   "execution_count": 4,
   "id": "85da7501",
   "metadata": {},
   "outputs": [
    {
     "name": "stdout",
     "output_type": "stream",
     "text": [
      "Ponyboy Curtis, join us for dinner at the Curtis house!\n",
      "Sodapop Curtis, join us for dinner at the Curtis house!\n",
      "Darry Curtis, join us for dinner at the Curtis house!\n"
     ]
    }
   ],
   "source": [
    "guests = [\"Ponyboy Curtis\", \"Sodapop Curtis\", \"Darry Curtis\"]\n",
    "for guest in guests:\n",
    "    print(f\"{guest}, join us for dinner at the Curtis house!\")\n"
   ]
  },
  {
   "cell_type": "markdown",
   "id": "5cd526fa",
   "metadata": {},
   "source": [
    "3-5. Changing Guest List:"
   ]
  },
  {
   "cell_type": "code",
   "execution_count": 6,
   "id": "d7547933",
   "metadata": {
    "scrolled": true
   },
   "outputs": [
    {
     "name": "stdout",
     "output_type": "stream",
     "text": [
      "Unfortunately, Sodapop Curtis has a shift at the DX and can't make it.\n",
      "Ponyboy Curtis, you're still invited to dinner at the Curtis house.\n",
      "Cherry Valance, you're still invited to dinner at the Curtis house.\n",
      "Darry Curtis, you're still invited to dinner at the Curtis house.\n"
     ]
    }
   ],
   "source": [
    "print(f\"Unfortunately, {guests[1]} has a shift at the DX and can't make it.\")\n",
    "guests[1] = \"Cherry Valance\"\n",
    "for guest in guests:\n",
    "    print(f\"{guest}, you're still invited to dinner at the Curtis house.\")"
   ]
  },
  {
   "cell_type": "markdown",
   "id": "569d88da",
   "metadata": {},
   "source": [
    "3-6. More Guests:"
   ]
  },
  {
   "cell_type": "code",
   "execution_count": 8,
   "id": "bb31e6f4",
   "metadata": {},
   "outputs": [
    {
     "name": "stdout",
     "output_type": "stream",
     "text": [
      "Looks like we can fit more folks in the Curtis house!\n",
      "Two-Bit Mathews, join us for dinner!\n",
      "Ponyboy Curtis, join us for dinner!\n",
      "Steve Randle, join us for dinner!\n",
      "Cherry Valance, join us for dinner!\n",
      "Darry Curtis, join us for dinner!\n",
      "Dally Winston, join us for dinner!\n"
     ]
    }
   ],
   "source": [
    "print(\"Looks like we can fit more folks in the Curtis house!\")\n",
    "guests.insert(0, \"Two-Bit Mathews\")\n",
    "guests.insert(2, \"Steve Randle\")\n",
    "guests.append(\"Dally Winston\")\n",
    "for guest in guests:\n",
    "    print(f\"{guest}, join us for dinner!\")"
   ]
  },
  {
   "cell_type": "markdown",
   "id": "90013c93",
   "metadata": {},
   "source": [
    "3-7. Shrinking Guest List:"
   ]
  },
  {
   "cell_type": "code",
   "execution_count": 10,
   "id": "a7b4e6a1",
   "metadata": {},
   "outputs": [
    {
     "name": "stdout",
     "output_type": "stream",
     "text": [
      "Somehow, the house seems smaller than we thought. Only two can stay for dinner.\n",
      "Sorry Dally Winston, the house is too packed.\n",
      "Sorry Darry Curtis, the house is too packed.\n",
      "Sorry Cherry Valance, the house is too packed.\n",
      "Sorry Steve Randle, the house is too packed.\n",
      "Two-Bit Mathews, you're still invited.\n",
      "Ponyboy Curtis, you're still invited.\n",
      "[]\n"
     ]
    }
   ],
   "source": [
    "print(\"Somehow, the house seems smaller than we thought. Only two can stay for dinner.\")\n",
    "while len(guests) > 2:\n",
    "    uninvited_guest = guests.pop()\n",
    "    print(f\"Sorry {uninvited_guest}, the house is too packed.\")\n",
    "for guest in guests:\n",
    "    print(f\"{guest}, you're still invited.\")\n",
    "del guests[0]\n",
    "del guests[0]\n",
    "print(guests)"
   ]
  },
  {
   "cell_type": "code",
   "execution_count": null,
   "id": "ccf0bcaf",
   "metadata": {},
   "outputs": [],
   "source": []
  }
 ],
 "metadata": {
  "kernelspec": {
   "display_name": "Python 3 (ipykernel)",
   "language": "python",
   "name": "python3"
  },
  "language_info": {
   "codemirror_mode": {
    "name": "ipython",
    "version": 3
   },
   "file_extension": ".py",
   "mimetype": "text/x-python",
   "name": "python",
   "nbconvert_exporter": "python",
   "pygments_lexer": "ipython3",
   "version": "3.9.11"
  }
 },
 "nbformat": 4,
 "nbformat_minor": 5
}
