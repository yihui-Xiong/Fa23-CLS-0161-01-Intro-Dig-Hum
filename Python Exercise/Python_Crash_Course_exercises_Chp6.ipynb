{
 "cells": [
  {
   "cell_type": "markdown",
   "metadata": {},
   "source": [
    "# Python_Crash_Course_exercises_Chp6\n",
    "Python Crash Course exercises 6-1, 6-2, 6-3, 6-4, 6-5, 6-7, 6-8, 6-9, 6-11"
   ]
  },
  {
   "cell_type": "markdown",
   "metadata": {},
   "source": [
    "**TRY IT YOURSELF**\n",
    "\n",
    "**6-1. Person:** Use a dictionary to store information about a person you know. Store their first name, last name, age, and the city in which they live. You should have keys such as first_name, last_name, age, and city. Print each piece of information stored in your dictionary.\n"
   ]
  },
  {
   "cell_type": "code",
   "execution_count": 11,
   "metadata": {},
   "outputs": [
    {
     "name": "stdout",
     "output_type": "stream",
     "text": [
      "First_Name: John\n",
      "Last_Name: Watson\n",
      "Age: 37\n",
      "City: London\n"
     ]
    }
   ],
   "source": [
    "person = {\n",
    "    'first_name': 'John',\n",
    "    'last_name': 'Watson',\n",
    "    'age': 37,\n",
    "    'city': 'London',\n",
    "}\n",
    "\n",
    "for key, value in person.items():\n",
    "    print(f\"{key.title()}: {value}\")\n"
   ]
  },
  {
   "cell_type": "markdown",
   "metadata": {},
   "source": [
    "\n",
    "**6-2. Favorite Numbers:** Use a dictionary to store people’s favorite numbers. Think of five names, and use them as keys in your dictionary. Think of a favorite number for each person, and store each as a value in your dictionary. Print each person’s name and their favorite number. For even more fun, poll a few friends and get some actual data for your program.\n"
   ]
  },
  {
   "cell_type": "code",
   "execution_count": 12,
   "metadata": {},
   "outputs": [
    {
     "name": "stdout",
     "output_type": "stream",
     "text": [
      "Sherlock's favorite number is 221.\n",
      "Watson's favorite number is 7.\n",
      "Moriarty's favorite number is 3.\n",
      "Mycroft's favorite number is 1.\n",
      "Lestrade's favorite number is 9.\n"
     ]
    }
   ],
   "source": [
    "favorite_numbers = {\n",
    "    'sherlock': 221,\n",
    "    'watson': 7,\n",
    "    'moriarty': 3,\n",
    "    'mycroft': 1,\n",
    "    'lestrade': 9,\n",
    "}\n",
    "\n",
    "for name, number in favorite_numbers.items():\n",
    "    print(f\"{name.title()}'s favorite number is {number}.\")\n"
   ]
  },
  {
   "cell_type": "markdown",
   "metadata": {},
   "source": [
    "\n",
    "**6-3. Glossary:** A Python dictionary can be used to model an actual dictionary. However, to avoid confusion, let’s call it a glossary.\n"
   ]
  },
  {
   "cell_type": "markdown",
   "metadata": {},
   "source": [
    "\n",
    "• Think of five programming words you’ve learned about in the previous chapters. Use these words as the keys in your glossary, and store their meanings as values.\n",
    "\n",
    "• Print each word and its meaning as neatly formatted output. You might print the word followed by a colon and then its meaning, or print the word on one line and then print its meaning indented on a second line. Use the newline character (\\n) to insert a blank line between each word-meaning pair in your output.\n"
   ]
  },
  {
   "cell_type": "code",
   "execution_count": 13,
   "metadata": {},
   "outputs": [
    {
     "name": "stdout",
     "output_type": "stream",
     "text": [
      "\n",
      "Variable: A storage location identified by a memory address and an associated symbolic name.\n",
      "\n",
      "String: A series of characters.\n",
      "\n",
      "Ctrl: An album by SZA which talks about themes of self-love, heartbreak, and femininity.\n",
      "\n",
      "Supermodel: A song that talks about insecurities and revenge.\n",
      "\n",
      "Love_Galore: A song that talks about a complicated relationship.\n",
      "\n",
      "Broken_Clocks: A song that discusses past relationships and moving forward.\n"
     ]
    }
   ],
   "source": [
    "glossary = {\n",
    "    'variable': 'A storage location identified by a memory address and an associated symbolic name.',\n",
    "    'string': 'A series of characters.',\n",
    "}\n",
    "\n",
    "for word, meaning in glossary.items():\n",
    "    print(f\"\\n{word.title()}: {meaning}\")\n",
    "\n",
    "glossary = {\n",
    "    'ctrl': 'An album by SZA which talks about themes of self-love, heartbreak, and femininity.',\n",
    "    'supermodel': 'A song that talks about insecurities and revenge.',\n",
    "    'love_galore': 'A song that talks about a complicated relationship.',\n",
    "    'broken_clocks': 'A song that discusses past relationships and moving forward.',\n",
    "}\n",
    "\n",
    "for word, meaning in glossary.items():\n",
    "    print(f\"\\n{word.title()}: {meaning}\")\n",
    "\n"
   ]
  },
  {
   "cell_type": "markdown",
   "metadata": {},
   "source": [
    "\n",
    "**6-4. Glossary 2:** Now that you know how to loop through a dictionary, clean up the code from [Exercise 6-3](https://learning.oreilly.com/library/view/python-crash-course/9781457197185/ch06.html#ch6exe3) ([page 102](https://learning.oreilly.com/library/view/python-crash-course/9781457197185/ch06.html#page_102)) by replacing your series of print statements with a loop that runs through the dictionary’s keys and values. When you’re sure that your loop works, add five more Python terms to your glossary. When you run your program again, these new words and meanings should automatically be included in the output.\n"
   ]
  },
  {
   "cell_type": "code",
   "execution_count": 14,
   "metadata": {},
   "outputs": [
    {
     "name": "stdout",
     "output_type": "stream",
     "text": [
      "Ctrl:\n",
      "\tAn album by SZA which talks about themes of self-love, heartbreak, and femininity.\n",
      "\n",
      "Supermodel:\n",
      "\tA song that talks about insecurities and revenge.\n",
      "\n",
      "Love_Galore:\n",
      "\tA song that talks about a complicated relationship.\n",
      "\n",
      "Broken_Clocks:\n",
      "\tA song that discusses past relationships and moving forward.\n",
      "\n",
      "List:\n",
      "\tA collection of items in a particular order.\n",
      "\n",
      "Tuple:\n",
      "\tAn immutable list.\n",
      "\n"
     ]
    }
   ],
   "source": [
    "glossary['list'] = 'A collection of items in a particular order.'\n",
    "glossary['tuple'] = 'An immutable list.'\n",
    "\n",
    "for term, definition in glossary.items():\n",
    "    print(f\"{term.title()}:\\n\\t{definition}\\n\")\n"
   ]
  },
  {
   "cell_type": "markdown",
   "metadata": {},
   "source": [
    "\n",
    "**6-5. Rivers:** Make a dictionary containing three major rivers and the country each river runs through. One key-value pair might be 'nile': 'egypt'.\n",
    "\n",
    "• Use a loop to print a sentence about each river, such as *The Nile runs through Egypt*.\n",
    "\n",
    "• Use a loop to print the name of each river included in the dictionary.\n",
    "\n",
    "• Use a loop to print the name of each country included in the dictionary.\n"
   ]
  },
  {
   "cell_type": "code",
   "execution_count": 15,
   "metadata": {},
   "outputs": [
    {
     "name": "stdout",
     "output_type": "stream",
     "text": [
      "The Nile runs through Egypt.\n",
      "The Thames runs through England.\n",
      "The Ganges runs through India.\n"
     ]
    }
   ],
   "source": [
    "rivers = {\n",
    "    'nile': 'egypt',\n",
    "    'thames': 'england',\n",
    "    'ganges': 'india',\n",
    "}\n",
    "\n",
    "for river, country in rivers.items():\n",
    "    print(f\"The {river.title()} runs through {country.title()}.\")\n"
   ]
  },
  {
   "cell_type": "markdown",
   "metadata": {},
   "source": [
    "\n",
    "**6-6. Polling:** Use the code in *favorite_languages.py* ([page 104](https://learning.oreilly.com/library/view/python-crash-course/9781457197185/ch06.html#page_104)).\n",
    "\n",
    "• Make a list of people who should take the favorite languages poll. Include some names that are already in the dictionary and some that are not.\n",
    "\n",
    "• Loop through the list of people who should take the poll. If they have already taken the poll, print a message thanking them for responding. If they have not yet taken the poll, print a message inviting them to take the poll.\n"
   ]
  },
  {
   "cell_type": "markdown",
   "metadata": {},
   "source": [
    "\n",
    "**Nesting**\n",
    "\n",
    "Sometimes you’ll want to store a set of dictionaries in a list or a list of items as a value in a dictionary. This is called *nesting*. You can nest a set of dictionaries inside a list, a list of items inside a dictionary, or even a dictionary inside another dictionary. Nesting is a powerful feature, as the following examples will demonstrate.\n"
   ]
  },
  {
   "cell_type": "code",
   "execution_count": 16,
   "metadata": {},
   "outputs": [
    {
     "name": "stdout",
     "output_type": "stream",
     "text": [
      "Thank you for responding, Jen!\n",
      "Thank you for responding, Sarah!\n",
      "Hi Watson, please take our poll!\n",
      "Hi Moriarty, please take our poll!\n"
     ]
    }
   ],
   "source": [
    "favorite_languages = {'jen': 'python', 'sarah': 'c', 'edward': 'ruby'}\n",
    "people_to_poll = ['jen', 'sarah', 'watson', 'moriarty']\n",
    "\n",
    "for person in people_to_poll:\n",
    "    if person in favorite_languages.keys():\n",
    "        print(f\"Thank you for responding, {person.title()}!\")\n",
    "    else:\n",
    "        print(f\"Hi {person.title()}, please take our poll!\")\n"
   ]
  },
  {
   "cell_type": "markdown",
   "metadata": {},
   "source": [
    "\n",
    "**6-7. People:** Start with the program you wrote for [Exercise 6-1](https://learning.oreilly.com/library/view/python-crash-course/9781457197185/ch06.html#ch6exe1) ([page 102](https://learning.oreilly.com/library/view/python-crash-course/9781457197185/ch06.html#page_102)). Make two new dictionaries representing different people, and store all three dictionaries in a list called people. Loop through your list of people. As you loop through the list, print everything you know about each person.\n"
   ]
  },
  {
   "cell_type": "code",
   "execution_count": 17,
   "metadata": {},
   "outputs": [
    {
     "name": "stdout",
     "output_type": "stream",
     "text": [
      "\n",
      "Sza's favorite places are:\n",
      "\t- Camp Ctrl\n",
      "\t- Babylon\n",
      "\t- Love Galore\n",
      "\n",
      "Travis's favorite places are:\n",
      "\t- Goosebumps\n",
      "\t- Astroworld\n",
      "\t- Stargazing\n",
      "\n",
      "James's favorite places are:\n",
      "\t- Forest Hills Drive\n",
      "\t- Middle Child\n",
      "\t- The Off-Season\n"
     ]
    }
   ],
   "source": [
    "favorite_places = {\n",
    "    'sza': ['Camp Ctrl', 'Babylon', 'Love Galore'],\n",
    "    'travis': ['Goosebumps', 'Astroworld', 'Stargazing'],\n",
    "    'james': ['Forest Hills Drive', 'Middle Child', 'The Off-Season'],\n",
    "}\n",
    "\n",
    "for person, places in favorite_places.items():\n",
    "    print(f\"\\n{person.title()}'s favorite places are:\")\n",
    "    for place in places:\n",
    "        print(f\"\\t- {place}\")"
   ]
  },
  {
   "cell_type": "markdown",
   "metadata": {},
   "source": [
    "\n",
    "**6-8. Pets:** Make several dictionaries, where the name of each dictionary is the name of a pet. In each dictionary, include the kind of animal and the owner’s name. Store these dictionaries in a list called pets. Next, loop through your list and as you do print everything you know about each pet.\n"
   ]
  },
  {
   "cell_type": "code",
   "execution_count": 18,
   "metadata": {},
   "outputs": [
    {
     "name": "stdout",
     "output_type": "stream",
     "text": [
      "\n",
      "Pet 1:\n",
      "Kind: Owl\n",
      "Owner: Harry Potter\n",
      "\n",
      "Pet 2:\n",
      "Kind: Cat\n",
      "Owner: Hermione Granger\n",
      "\n",
      "Pet 3:\n",
      "Kind: Rat\n",
      "Owner: Ron Weasley\n"
     ]
    }
   ],
   "source": [
    "hedwig = {'kind': 'owl', 'owner': 'Harry Potter'}\n",
    "crookshanks = {'kind': 'cat', 'owner': 'Hermione Granger'}\n",
    "scabbers = {'kind': 'rat', 'owner': 'Ron Weasley'}\n",
    "\n",
    "pets = [hedwig, crookshanks, scabbers]\n",
    "\n",
    "for i, pet in enumerate(pets):\n",
    "    print(f\"\\nPet {i + 1}:\")\n",
    "    for key, value in pet.items():\n",
    "        print(f\"{key.title()}: {value.title()}\")\n"
   ]
  },
  {
   "cell_type": "markdown",
   "metadata": {},
   "source": [
    "\n",
    "**6-9. Favorite Places:** Make a dictionary called favorite_places. Think of three names to use as keys in the dictionary, and store one to three favorite places for each person. To make this exercise a bit more interesting, ask some friends to name a few of their favorite places. Loop through the dictionary, and print each person’s name and their favorite places.\n"
   ]
  },
  {
   "cell_type": "code",
   "execution_count": 19,
   "metadata": {},
   "outputs": [
    {
     "name": "stdout",
     "output_type": "stream",
     "text": [
      "\n",
      "Sherlock's favorite places are:\n",
      "\t- 221B Baker Street\n",
      "\t- Scotland Yard\n",
      "\t- Diogenes Club\n",
      "\n",
      "Watson's favorite places are:\n",
      "\t- Afghanistan\n",
      "\t- 221B Baker Street\n",
      "\t- The Surgery\n",
      "\n",
      "Moriarty's favorite places are:\n",
      "\t- The Tower of London\n",
      "\t- The Bank of England\n",
      "\t- The Pentonville Prison\n"
     ]
    }
   ],
   "source": [
    "favorite_places = {\n",
    "    'sherlock': ['221B Baker Street', 'Scotland Yard', 'Diogenes Club'],\n",
    "    'watson': ['Afghanistan', '221B Baker Street', 'The Surgery'],\n",
    "    'moriarty': ['The Tower of London', 'The Bank of England', 'The Pentonville Prison'],\n",
    "}\n",
    "\n",
    "for person, places in favorite_places.items():\n",
    "    print(f\"\\n{person.title()}'s favorite places are:\")\n",
    "    for place in places:\n",
    "        print(f\"\\t- {place}\")\n"
   ]
  },
  {
   "cell_type": "markdown",
   "metadata": {},
   "source": [
    "\n",
    "**6-11. Cities:** Make a dictionary called cities. Use the names of three cities as keys in your dictionary. Create a dictionary of information about each city and include the country that the city is in, its approximate population, and one fact about that city. The keys for each city’s dictionary should be something like country, population, and fact. Print the name of each city and all of the information you have stored about it.\n"
   ]
  },
  {
   "cell_type": "code",
   "execution_count": 20,
   "metadata": {},
   "outputs": [
    {
     "name": "stdout",
     "output_type": "stream",
     "text": [
      "\n",
      "London:\n",
      "\tCountry: England\n",
      "\tPopulation: 8900000\n",
      "\tFact: It is the capital of England.\n",
      "\n",
      "Paris:\n",
      "\tCountry: France\n",
      "\tPopulation: 2141000\n",
      "\tFact: It is known for its cafe culture.\n",
      "\n",
      "Berlin:\n",
      "\tCountry: Germany\n",
      "\tPopulation: 3748000\n",
      "\tFact: The Berlin Wall was a guarded concrete barrier that divided Berlin from 1961 to 1989.\n"
     ]
    }
   ],
   "source": [
    "cities = {\n",
    "    'london': {'country': 'England', 'population': 8900000, 'fact': 'It is the capital of England.'},\n",
    "    'paris': {'country': 'France', 'population': 2141000, 'fact': 'It is known for its cafe culture.'},\n",
    "    'berlin': {'country': 'Germany', 'population': 3748000, 'fact': 'The Berlin Wall was a guarded concrete barrier that divided Berlin from 1961 to 1989.'},\n",
    "}\n",
    "\n",
    "for city, city_info in cities.items():\n",
    "    print(f\"\\n{city.title()}:\")\n",
    "    for key, value in city_info.items():\n",
    "        print(f\"\\t{key.title()}: {value}\")\n"
   ]
  }
 ],
 "metadata": {
  "kernelspec": {
   "display_name": "Python 3",
   "language": "python",
   "name": "python3"
  },
  "language_info": {
   "codemirror_mode": {
    "name": "ipython",
    "version": 3
   },
   "file_extension": ".py",
   "mimetype": "text/x-python",
   "name": "python",
   "nbconvert_exporter": "python",
   "pygments_lexer": "ipython3",
   "version": "3.11.4"
  },
  "orig_nbformat": 4
 },
 "nbformat": 4,
 "nbformat_minor": 2
}
