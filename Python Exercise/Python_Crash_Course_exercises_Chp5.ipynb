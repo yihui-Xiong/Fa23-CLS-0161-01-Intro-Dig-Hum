{
 "cells": [
  {
   "cell_type": "markdown",
   "id": "eb2d4461",
   "metadata": {},
   "source": [
    "# Python_Crash_Course_exercises_Chp5\n",
    "Python Crash Course exercises 5-1, 5-2, 5-6, 5-7, 5-8, 5-9, 5-10"
   ]
  },
  {
   "cell_type": "markdown",
   "id": "f181d651",
   "metadata": {},
   "source": [
    "5-1. Conditional Tests:"
   ]
  },
  {
   "cell_type": "code",
   "execution_count": 23,
   "id": "f3f753f1",
   "metadata": {},
   "outputs": [
    {
     "name": "stdout",
     "output_type": "stream",
     "text": [
      "Is pipe == 'meerschaum'? I predict True.\n",
      "True\n",
      "\n",
      "Is pipe == 'briar'? I predict False.\n",
      "False\n",
      "\n",
      "Is violin == 'stradivarius'? I predict True.\n",
      "True\n",
      "\n",
      "Is violin == 'amati'? I predict False.\n",
      "False\n",
      "\n",
      "Is hat == 'deerstalker'? I predict True.\n",
      "True\n",
      "\n",
      "Is hat == 'fedora'? I predict False.\n",
      "False\n",
      "\n",
      "Is criminal == 'moriarty'? I predict True.\n",
      "True\n",
      "\n",
      "Is criminal == 'watson'? I predict False.\n",
      "False\n"
     ]
    }
   ],
   "source": [
    "pipe = 'meerschaum'\n",
    "print(\"Is pipe == 'meerschaum'? I predict True.\")\n",
    "print(pipe == 'meerschaum')\n",
    "\n",
    "print(\"\\nIs pipe == 'briar'? I predict False.\")\n",
    "print(pipe == 'briar')\n",
    "\n",
    "violin = 'stradivarius'\n",
    "print(\"\\nIs violin == 'stradivarius'? I predict True.\")\n",
    "print(violin == 'stradivarius')\n",
    "\n",
    "print(\"\\nIs violin == 'amati'? I predict False.\")\n",
    "print(violin == 'amati')\n",
    "\n",
    "hat = 'deerstalker'\n",
    "print(\"\\nIs hat == 'deerstalker'? I predict True.\")\n",
    "print(hat == 'deerstalker')\n",
    "\n",
    "print(\"\\nIs hat == 'fedora'? I predict False.\")\n",
    "print(hat == 'fedora')\n",
    "\n",
    "criminal = 'moriarty'\n",
    "print(\"\\nIs criminal == 'moriarty'? I predict True.\")\n",
    "print(criminal == 'moriarty')\n",
    "\n",
    "print(\"\\nIs criminal == 'watson'? I predict False.\")\n",
    "print(criminal == 'watson')\n"
   ]
  },
  {
   "cell_type": "markdown",
   "id": "45b44243",
   "metadata": {},
   "source": [
    "5-2. More Conditional Tests:"
   ]
  },
  {
   "cell_type": "code",
   "execution_count": 24,
   "id": "029e94d7",
   "metadata": {
    "scrolled": false
   },
   "outputs": [
    {
     "name": "stdout",
     "output_type": "stream",
     "text": [
      "False\n",
      "True\n",
      "False\n",
      "The mastermind behind the crime is Moriarty!\n",
      "True\n",
      "True\n",
      "True\n",
      "True\n",
      "The clue is a footprint.\n",
      "The clue is not a handprint.\n",
      "True\n",
      "True\n",
      "True\n",
      "False\n",
      "True\n",
      "False\n",
      "We have 5 clues to solve the mystery.\n",
      "We have a moderate number of clues.\n",
      "The duke's son will inherit the estate.\n",
      "Poison was one of the potential murder weapons.\n",
      "Rope was not used in the crime.\n"
     ]
    }
   ],
   "source": [
    "# Strings equality\n",
    "print(\"\\nHello\" == \"hello\")  # False\n",
    "print(\"Python\" == \"Python\")  # True\n",
    "\n",
    "# Using lower()\n",
    "print(\"\\nPython\".lower() == \"python\")  # True\n",
    "\n",
    "suspect = \"MORIARTY\"\n",
    "if suspect.lower() == \"moriarty\":\n",
    "    print(\"The mastermind behind the crime is Moriarty!\")\n",
    "\n",
    "# Using 'and' & 'or'\n",
    "print(5 > 3 and 8 > 5)  # True\n",
    "print(5 > 8 or 8 > 5)  # True\n",
    "\n",
    "# Item in list\n",
    "fruits = [\"apple\", \"banana\", \"cherry\"]\n",
    "print(\"apple\" in fruits)   # True\n",
    "print(\"grape\" not in fruits)  # True\n",
    "\n",
    "# Tests for equality and inequality with strings\n",
    "clue = \"footprint\"\n",
    "if clue == \"footprint\":\n",
    "    print(\"The clue is a footprint.\")\n",
    "if clue != \"handprint\":\n",
    "    print(\"The clue is not a handprint.\")\n",
    "    \n",
    "# Numerical tests\n",
    "print(10 == 10)  # True\n",
    "print(10 != 9)   # True\n",
    "print(5 < 8)     # True\n",
    "print(12 > 15)   # False\n",
    "print(10 <= 10)  # True\n",
    "print(7 >= 8)    # False\n",
    "\n",
    "number_of_clues = 5\n",
    "if number_of_clues == 5:\n",
    "    print(\"We have 5 clues to solve the mystery.\")\n",
    "if number_of_clues > 3 and number_of_clues < 7:\n",
    "    print(\"We have a moderate number of clues.\")\n",
    "\n",
    "# Tests using the and keyword and the or keyword\n",
    "victim = \"duke\"\n",
    "heir = \"son\"\n",
    "if victim == \"duke\" and heir == \"son\":\n",
    "    print(\"The duke's son will inherit the estate.\")\n",
    "\n",
    "# Test whether an item is in a list\n",
    "weapons = [\"knife\", \"poison\", \"revolver\"]\n",
    "if \"poison\" in weapons:\n",
    "    print(\"Poison was one of the potential murder weapons.\")\n",
    "\n",
    "# Test whether an item is not in a list\n",
    "if \"rope\" not in weapons:\n",
    "    print(\"Rope was not used in the crime.\")\n"
   ]
  },
  {
   "cell_type": "markdown",
   "id": "67f5c59d",
   "metadata": {},
   "source": [
    "5-6. Stages of Life:"
   ]
  },
  {
   "cell_type": "code",
   "execution_count": 25,
   "id": "aca061ad",
   "metadata": {
    "scrolled": true
   },
   "outputs": [
    {
     "name": "stdout",
     "output_type": "stream",
     "text": [
      "Dr. Watson is an adult.\n"
     ]
    }
   ],
   "source": [
    "age = 35\n",
    "\n",
    "if age < 2:\n",
    "    print(\"Dr. Watson is a baby.\")\n",
    "elif age < 4:\n",
    "    print(\"Dr. Watson is a toddler.\")\n",
    "elif age < 13:\n",
    "    print(\"Dr. Watson is a kid.\")\n",
    "elif age < 20:\n",
    "    print(\"Dr. Watson is a teenager.\")\n",
    "elif age < 65:\n",
    "    print(\"Dr. Watson is an adult.\")\n",
    "else:\n",
    "    print(\"Dr. Watson is an elder.\")\n"
   ]
  },
  {
   "cell_type": "markdown",
   "id": "da5e384e",
   "metadata": {},
   "source": [
    "5-7. Favorite Fruit:"
   ]
  },
  {
   "cell_type": "code",
   "execution_count": 26,
   "id": "0bc23336",
   "metadata": {},
   "outputs": [
    {
     "name": "stdout",
     "output_type": "stream",
     "text": [
      "Sherlock really likes strawberries!\n",
      "Sherlock really likes bananas!\n",
      "Sherlock really likes oranges!\n"
     ]
    }
   ],
   "source": [
    "favorite_fruits = [\"strawberries\", \"oranges\", \"bananas\"]\n",
    "\n",
    "if \"strawberries\" in favorite_fruits:\n",
    "    print(\"Sherlock really likes strawberries!\")\n",
    "if \"apples\" in favorite_fruits:\n",
    "    print(\"Sherlock really likes apples!\")\n",
    "if \"bananas\" in favorite_fruits:\n",
    "    print(\"Sherlock really likes bananas!\")\n",
    "if \"cherries\" in favorite_fruits:\n",
    "    print(\"Sherlock really likes cherries!\")\n",
    "if \"oranges\" in favorite_fruits:\n",
    "    print(\"Sherlock really likes oranges!\")\n"
   ]
  },
  {
   "cell_type": "markdown",
   "id": "73fae0e2",
   "metadata": {},
   "source": [
    "5-8. Hello Admin:"
   ]
  },
  {
   "cell_type": "code",
   "execution_count": 27,
   "id": "56456aa4",
   "metadata": {},
   "outputs": [
    {
     "name": "stdout",
     "output_type": "stream",
     "text": [
      "Hello Sherlock, have you found any clues today?\n",
      "Hello Watson, have you found any clues today?\n",
      "Hello Moriarty, have you found any clues today?\n",
      "Hello admin, would you like to see a status report?\n",
      "Hello Lestrade, have you found any clues today?\n"
     ]
    }
   ],
   "source": [
    "usernames = ['sherlock', 'watson', 'moriarty', 'admin', 'lestrade']\n",
    "\n",
    "for username in usernames:\n",
    "    if username == 'admin':\n",
    "        print(\"Hello admin, would you like to see a status report?\")\n",
    "    else:\n",
    "        print(f\"Hello {username.title()}, have you found any clues today?\")\n"
   ]
  },
  {
   "cell_type": "markdown",
   "id": "5565013d",
   "metadata": {},
   "source": [
    "5-9. No Users:"
   ]
  },
  {
   "cell_type": "code",
   "execution_count": 28,
   "id": "28dd563a",
   "metadata": {},
   "outputs": [
    {
     "name": "stdout",
     "output_type": "stream",
     "text": [
      "We need to find some users!\n"
     ]
    }
   ],
   "source": [
    "usernames = []\n",
    "\n",
    "if not usernames:\n",
    "    print(\"We need to find some users!\")\n",
    "else:\n",
    "    for username in usernames:\n",
    "        if username == 'admin':\n",
    "            print(\"Hello admin, would you like to see a status report?\")\n",
    "        else:\n",
    "            print(f\"Hello {username.title()}, thank you for logging in again.\")\n"
   ]
  },
  {
   "cell_type": "markdown",
   "id": "22504854",
   "metadata": {},
   "source": [
    "5-10. Checking Usernames:"
   ]
  },
  {
   "cell_type": "code",
   "execution_count": 29,
   "id": "0201343f",
   "metadata": {},
   "outputs": [
    {
     "name": "stdout",
     "output_type": "stream",
     "text": [
      "Welcome aboard, Detective Hudson!\n",
      "Welcome aboard, Detective Magnussen!\n",
      "Sorry Sherlock, that name is taken. Please choose another.\n",
      "Sorry Watson, that name is taken. Please choose another.\n",
      "Welcome aboard, Detective Adler!\n"
     ]
    }
   ],
   "source": [
    "current_users = ['sherlock', 'watson', 'moriarty', 'mycroft', 'lestrade']\n",
    "new_users = ['hudson', 'magnussen', 'SHERLOCK', 'watson', 'adler']\n",
    "\n",
    "for new_user in new_users:\n",
    "    if new_user.lower() in [user.lower() for user in current_users]:\n",
    "        print(f\"Sorry {new_user.title()}, that name is taken. Please choose another.\")\n",
    "    else:\n",
    "        print(f\"Welcome aboard, Detective {new_user.title()}!\")"
   ]
  },
  {
   "cell_type": "markdown",
   "id": "5734d421",
   "metadata": {},
   "source": [
    "5-11. Ordinal Numbers:"
   ]
  },
  {
   "cell_type": "code",
   "execution_count": 30,
   "id": "3d2c5ade",
   "metadata": {},
   "outputs": [
    {
     "name": "stdout",
     "output_type": "stream",
     "text": [
      "1st - The first clue.\n",
      "2nd - The second piece of the puzzle.\n",
      "3rd - The third and final revelation.\n",
      "4th - The 4th mystery to solve.\n",
      "5th - The 5th mystery to solve.\n",
      "6th - The 6th mystery to solve.\n",
      "7th - The 7th mystery to solve.\n",
      "8th - The 8th mystery to solve.\n",
      "9th - The 9th mystery to solve.\n"
     ]
    }
   ],
   "source": [
    "numbers = list(range(1, 10))\n",
    "\n",
    "for number in numbers:\n",
    "    if number == 1:\n",
    "        print(\"1st - The first clue.\")\n",
    "    elif number == 2:\n",
    "        print(\"2nd - The second piece of the puzzle.\")\n",
    "    elif number == 3:\n",
    "        print(\"3rd - The third and final revelation.\")\n",
    "    else:\n",
    "        print(f\"{number}th - The {number}th mystery to solve.\")"
   ]
  }
 ],
 "metadata": {
  "kernelspec": {
   "display_name": "Python 3 (ipykernel)",
   "language": "python",
   "name": "python3"
  },
  "language_info": {
   "codemirror_mode": {
    "name": "ipython",
    "version": 3
   },
   "file_extension": ".py",
   "mimetype": "text/x-python",
   "name": "python",
   "nbconvert_exporter": "python",
   "pygments_lexer": "ipython3",
   "version": "3.11.4"
  }
 },
 "nbformat": 4,
 "nbformat_minor": 5
}
