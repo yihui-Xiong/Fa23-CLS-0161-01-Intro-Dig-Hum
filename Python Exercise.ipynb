{
 "cells": [
  {
   "cell_type": "markdown",
   "id": "0ca4fcf1",
   "metadata": {},
   "source": [
    "Mon Sep 18 \n",
    "\n",
    "This is my jupyter notebook!"
   ]
  },
  {
   "cell_type": "code",
   "execution_count": 250,
   "id": "2b94bf14",
   "metadata": {},
   "outputs": [
    {
     "name": "stdout",
     "output_type": "stream",
     "text": [
      "Hello, World!\n"
     ]
    }
   ],
   "source": [
    "print (\"Hello, World!\")"
   ]
  },
  {
   "cell_type": "markdown",
   "id": "85686d38",
   "metadata": {},
   "source": [
    "# Variables"
   ]
  },
  {
   "cell_type": "code",
   "execution_count": 251,
   "id": "9814db58",
   "metadata": {},
   "outputs": [],
   "source": [
    "greeting = \"Hello, World!\""
   ]
  },
  {
   "cell_type": "code",
   "execution_count": 252,
   "id": "6c10e8ac",
   "metadata": {},
   "outputs": [
    {
     "name": "stdout",
     "output_type": "stream",
     "text": [
      "Hello, World!\n"
     ]
    }
   ],
   "source": [
    "print(greeting)"
   ]
  },
  {
   "cell_type": "markdown",
   "id": "0b8b0da9",
   "metadata": {},
   "source": [
    "\n",
    "print(greating)\n",
    "\n",
    "---------------------------------------------------------------------------\n",
    "NameError                                 Traceback (most recent call last)\n",
    "/Users/xiongyihui/Library/CloudStorage/OneDrive-Personal/Docs/Tufts/Fa23/Fa23-CLS-0161-01-Intro to Digital Humanities/cls_161/Fa23-CLS-0161-01-Intro-Dig-Hum/Python Exercise/Python Exercise.ipynb Cell 6 line 1\n",
    "----> 1 print(greating)\n",
    "\n",
    "NameError: name 'greating' is not defined"
   ]
  },
  {
   "cell_type": "code",
   "execution_count": 253,
   "id": "8168cf9a",
   "metadata": {},
   "outputs": [],
   "source": [
    "greeting = \"Goodbye, World!\""
   ]
  },
  {
   "cell_type": "code",
   "execution_count": 254,
   "id": "0e408588",
   "metadata": {},
   "outputs": [
    {
     "name": "stdout",
     "output_type": "stream",
     "text": [
      "Goodbye, World!\n"
     ]
    }
   ],
   "source": [
    "print(greeting)"
   ]
  },
  {
   "cell_type": "markdown",
   "id": "592d0a75",
   "metadata": {},
   "source": [
    "Variables can be overwrote"
   ]
  },
  {
   "cell_type": "markdown",
   "id": "87d18bcd",
   "metadata": {},
   "source": [
    "# String "
   ]
  },
  {
   "cell_type": "code",
   "execution_count": 255,
   "id": "9bc0715f",
   "metadata": {},
   "outputs": [
    {
     "name": "stdout",
     "output_type": "stream",
     "text": [
      "This is a string.\n"
     ]
    }
   ],
   "source": [
    "example_1 = \"This is a string.\"\n",
    "print(example_1)"
   ]
  },
  {
   "cell_type": "code",
   "execution_count": 256,
   "id": "843ffe91",
   "metadata": {},
   "outputs": [
    {
     "name": "stdout",
     "output_type": "stream",
     "text": [
      "This is also a string.\n"
     ]
    }
   ],
   "source": [
    "example_2 = 'This is also a string.'\n",
    "print(example_2)"
   ]
  },
  {
   "cell_type": "markdown",
   "id": "9e97b293",
   "metadata": {},
   "source": [
    "exaple_3 = \"I asked a question,\"When should I use double quotes?\"\"\n",
    "print(example_3)"
   ]
  },
  {
   "cell_type": "code",
   "execution_count": 257,
   "id": "8e7afd39",
   "metadata": {},
   "outputs": [
    {
     "name": "stdout",
     "output_type": "stream",
     "text": [
      "I asked a question,\"When should I use doubel quotes?\"\n"
     ]
    }
   ],
   "source": [
    "example_4 = 'I asked a question,\"When should I use doubel quotes?\"'\n",
    "print(example_4)"
   ]
  },
  {
   "cell_type": "code",
   "execution_count": 258,
   "id": "391684b6",
   "metadata": {},
   "outputs": [
    {
     "name": "stdout",
     "output_type": "stream",
     "text": [
      "Ada Lovelace\n"
     ]
    }
   ],
   "source": [
    "name = \"ada lovelace\"\n",
    "print(name.title())"
   ]
  },
  {
   "cell_type": "code",
   "execution_count": 259,
   "id": "0ccf71ae",
   "metadata": {},
   "outputs": [],
   "source": [
    "historian = 'edward gibbon'"
   ]
  },
  {
   "cell_type": "code",
   "execution_count": 260,
   "id": "d8a9ab1c",
   "metadata": {},
   "outputs": [
    {
     "name": "stdout",
     "output_type": "stream",
     "text": [
      "edward gibbon\n"
     ]
    }
   ],
   "source": [
    "print(historian)"
   ]
  },
  {
   "cell_type": "code",
   "execution_count": 261,
   "id": "09a2c7de",
   "metadata": {},
   "outputs": [
    {
     "name": "stdout",
     "output_type": "stream",
     "text": [
      "Edward Gibbon\n"
     ]
    }
   ],
   "source": [
    "print(historian.title())"
   ]
  },
  {
   "cell_type": "markdown",
   "id": "13748cbb",
   "metadata": {},
   "source": [
    "title.()  = this is a method where the first letter of each word is a uppper case"
   ]
  },
  {
   "cell_type": "code",
   "execution_count": 262,
   "id": "9a47f379",
   "metadata": {},
   "outputs": [],
   "source": [
    "novelist = 'Becky Chambers'"
   ]
  },
  {
   "cell_type": "code",
   "execution_count": 263,
   "id": "b7ae3545",
   "metadata": {},
   "outputs": [
    {
     "name": "stdout",
     "output_type": "stream",
     "text": [
      "Becky Chambers\n",
      "BECKY CHAMBERS\n",
      "becky chambers\n"
     ]
    }
   ],
   "source": [
    "print(novelist)\n",
    "print(novelist.upper())\n",
    "print(novelist.lower())"
   ]
  },
  {
   "cell_type": "markdown",
   "id": "40d3939b",
   "metadata": {},
   "source": [
    "text processing = computer commands which invoke content, content changes, and cursor movement, for example to: search and replace, format, generate a processed report of the content of, orfilter a file or report of a text file."
   ]
  },
  {
   "cell_type": "code",
   "execution_count": 264,
   "id": "976fdfe1",
   "metadata": {},
   "outputs": [
    {
     "name": "stdout",
     "output_type": "stream",
     "text": [
      "Can you find the x in the string.\n"
     ]
    }
   ],
   "source": [
    "string_x = \"Can you find the x in the string.\"\n",
    "print(string_x)"
   ]
  },
  {
   "cell_type": "code",
   "execution_count": 265,
   "id": "53a7a60c",
   "metadata": {},
   "outputs": [
    {
     "name": "stdout",
     "output_type": "stream",
     "text": [
      "17\n"
     ]
    }
   ],
   "source": [
    "print(string_x.find(\"x\"))"
   ]
  },
  {
   "cell_type": "markdown",
   "id": "d6f3ece2",
   "metadata": {},
   "source": [
    "# Integer"
   ]
  },
  {
   "cell_type": "code",
   "execution_count": 266,
   "id": "b56eae09",
   "metadata": {},
   "outputs": [
    {
     "data": {
      "text/plain": [
       "4434"
      ]
     },
     "execution_count": 266,
     "metadata": {},
     "output_type": "execute_result"
    }
   ],
   "source": [
    "678 + 3756"
   ]
  },
  {
   "cell_type": "code",
   "execution_count": 267,
   "id": "d9afea24",
   "metadata": {},
   "outputs": [
    {
     "data": {
      "text/plain": [
       "12"
      ]
     },
     "execution_count": 267,
     "metadata": {},
     "output_type": "execute_result"
    }
   ],
   "source": [
    "19-7\n"
   ]
  },
  {
   "cell_type": "code",
   "execution_count": 268,
   "id": "9acae873",
   "metadata": {},
   "outputs": [
    {
     "data": {
      "text/plain": [
       "162"
      ]
     },
     "execution_count": 268,
     "metadata": {},
     "output_type": "execute_result"
    }
   ],
   "source": [
    "54*3"
   ]
  },
  {
   "cell_type": "code",
   "execution_count": 269,
   "id": "c702d32c",
   "metadata": {},
   "outputs": [
    {
     "data": {
      "text/plain": [
       "3.0"
      ]
     },
     "execution_count": 269,
     "metadata": {},
     "output_type": "execute_result"
    }
   ],
   "source": [
    "30/10"
   ]
  },
  {
   "cell_type": "code",
   "execution_count": 270,
   "id": "bc714b76",
   "metadata": {},
   "outputs": [
    {
     "data": {
      "text/plain": [
       "27"
      ]
     },
     "execution_count": 270,
     "metadata": {},
     "output_type": "execute_result"
    }
   ],
   "source": [
    "3 ** 3"
   ]
  },
  {
   "cell_type": "code",
   "execution_count": 271,
   "id": "a1d4ea5f",
   "metadata": {},
   "outputs": [
    {
     "data": {
      "text/plain": [
       "0.5"
      ]
     },
     "execution_count": 271,
     "metadata": {},
     "output_type": "execute_result"
    }
   ],
   "source": [
    "0.2+0.3"
   ]
  },
  {
   "cell_type": "code",
   "execution_count": 272,
   "id": "e95d25f8",
   "metadata": {},
   "outputs": [],
   "source": [
    "lage_number = 1_000_000"
   ]
  },
  {
   "cell_type": "code",
   "execution_count": 273,
   "id": "e801bec7",
   "metadata": {},
   "outputs": [],
   "source": [
    "x, y, z = 1, 2, 3"
   ]
  },
  {
   "cell_type": "code",
   "execution_count": 274,
   "id": "f4109431",
   "metadata": {},
   "outputs": [
    {
     "data": {
      "text/plain": [
       "3"
      ]
     },
     "execution_count": 274,
     "metadata": {},
     "output_type": "execute_result"
    }
   ],
   "source": [
    "x + y"
   ]
  },
  {
   "cell_type": "code",
   "execution_count": 275,
   "id": "1c78330f",
   "metadata": {},
   "outputs": [
    {
     "name": "stdout",
     "output_type": "stream",
     "text": [
      "<class 'str'>\n"
     ]
    }
   ],
   "source": [
    "print(type(\"14\"))"
   ]
  },
  {
   "cell_type": "markdown",
   "id": "0ac9992c",
   "metadata": {},
   "source": [
    "# List "
   ]
  },
  {
   "cell_type": "code",
   "execution_count": 276,
   "id": "f40d34bc",
   "metadata": {},
   "outputs": [],
   "source": [
    "subjects = ['classics', 'history', 'literature']"
   ]
  },
  {
   "cell_type": "code",
   "execution_count": 277,
   "id": "9ea2b7b6",
   "metadata": {},
   "outputs": [
    {
     "name": "stdout",
     "output_type": "stream",
     "text": [
      "cannondale\n",
      "specialized\n"
     ]
    }
   ],
   "source": [
    "bicycles = ['trek', 'cannondale', 'redline', 'specialized']\n",
    "print(bicycles[1])\n",
    "print(bicycles[3])"
   ]
  },
  {
   "cell_type": "code",
   "execution_count": 278,
   "id": "efa7bd5b",
   "metadata": {},
   "outputs": [
    {
     "name": "stdout",
     "output_type": "stream",
     "text": [
      "specialized\n"
     ]
    }
   ],
   "source": [
    "bicycles = ['trek', 'cannondale', 'redline', 'specialized']\n",
    "print(bicycles[-1])"
   ]
  },
  {
   "cell_type": "code",
   "execution_count": 279,
   "id": "6684ca21",
   "metadata": {},
   "outputs": [
    {
     "name": "stdout",
     "output_type": "stream",
     "text": [
      "My first bicycle was a Trek.\n"
     ]
    }
   ],
   "source": [
    "bicycles = ['trek', 'cannondale', 'redline', 'specialized']\n",
    "message = \"My first bicycle was a \" + bicycles[0].title() + \".\"\n",
    "print(message)\n"
   ]
  },
  {
   "cell_type": "code",
   "execution_count": 280,
   "id": "4512ac67",
   "metadata": {},
   "outputs": [
    {
     "name": "stdout",
     "output_type": "stream",
     "text": [
      "['honda', 'yamaha', 'suzuki']\n",
      "['ducati', 'yamaha', 'suzuki']\n"
     ]
    }
   ],
   "source": [
    "motorcycles = ['honda', 'yamaha', 'suzuki']\n",
    "print(motorcycles)\n",
    "\n",
    "motorcycles[0] = 'ducati'\n",
    "print(motorcycles)"
   ]
  },
  {
   "cell_type": "markdown",
   "id": "e950bec4",
   "metadata": {},
   "source": [
    "# Dictionary"
   ]
  },
  {
   "cell_type": "code",
   "execution_count": 281,
   "id": "83cd09ec",
   "metadata": {},
   "outputs": [
    {
     "name": "stdout",
     "output_type": "stream",
     "text": [
      "green\n",
      "5\n"
     ]
    }
   ],
   "source": [
    "alien_0 = {'color': 'green', 'points': 5}\n",
    "\n",
    "print(alien_0['color'])\n",
    "\n",
    "print(alien_0['points'])\n"
   ]
  },
  {
   "cell_type": "code",
   "execution_count": 282,
   "id": "6be88156",
   "metadata": {},
   "outputs": [
    {
     "name": "stdout",
     "output_type": "stream",
     "text": [
      "{'color': 'yellow', 'points': 10, 'speed': 'medium'}\n",
      "{'color': 'yellow', 'points': 10, 'speed': 'medium'}\n",
      "{'color': 'yellow', 'points': 10, 'speed': 'medium'}\n",
      "{'color': 'green', 'points': 5, 'speed': 'slow'}\n",
      "{'color': 'green', 'points': 5, 'speed': 'slow'}\n"
     ]
    }
   ],
   "source": [
    "aliens = []\n",
    "\n",
    "# Make 30 green aliens.\n",
    "for _ in range(30):\n",
    "    new_alien = {'color': 'green', 'points': 5, 'speed': 'slow'}\n",
    "    aliens.append(new_alien)\n",
    "\n",
    "# Changing first 3 aliens properties.\n",
    "for alien in aliens[:3]:\n",
    "    alien['color'] = 'yellow'\n",
    "    alien['speed'] = 'medium'\n",
    "    alien['points'] = 10\n",
    "\n",
    "# Displaying first 5 aliens.\n",
    "for alien in aliens[:5]:\n",
    "    print(alien)\n",
    "\n"
   ]
  },
  {
   "cell_type": "markdown",
   "id": "58a19330",
   "metadata": {},
   "source": [
    "# Word Counter"
   ]
  },
  {
   "cell_type": "code",
   "execution_count": 283,
   "id": "a14c02bc",
   "metadata": {},
   "outputs": [
    {
     "name": "stdout",
     "output_type": "stream",
     "text": [
      "2\n"
     ]
    }
   ],
   "source": [
    "def word_counter(text):\n",
    "    words = text.split()  # Splits text into words based on spaces\n",
    "    return len(words)  # Returns the total number of words\n",
    "\n",
    "text = \"Hello world\"\n",
    "print(word_counter(text))  # Output: 2"
   ]
  },
  {
   "cell_type": "code",
   "execution_count": 284,
   "id": "20fbce98",
   "metadata": {},
   "outputs": [
    {
     "name": "stdout",
     "output_type": "stream",
     "text": [
      "{'hello': 1, 'world': 2}\n"
     ]
    }
   ],
   "source": [
    "def word_frequency_counter(text):\n",
    "    words = text.split()\n",
    "    word_count = {}\n",
    "    for word in words:\n",
    "        word = word.lower()  # Normalizing word to lowercase\n",
    "        if word in word_count:\n",
    "            word_count[word] += 1\n",
    "        else:\n",
    "            word_count[word] = 1\n",
    "    return word_count\n",
    "\n",
    "text = \"Hello world world\"\n",
    "print(word_frequency_counter(text))  \n",
    "# Output: {'hello': 1, 'world': 2}\n"
   ]
  },
  {
   "cell_type": "markdown",
   "id": "f5c12f34",
   "metadata": {},
   "source": [
    "**Accessing Values in a Dictionary**"
   ]
  },
  {
   "cell_type": "markdown",
   "id": "5074cf65",
   "metadata": {},
   "source": [
    "value = dictionary_name[key]"
   ]
  },
  {
   "cell_type": "code",
   "execution_count": 285,
   "id": "432fa5c9",
   "metadata": {},
   "outputs": [
    {
     "name": "stdout",
     "output_type": "stream",
     "text": [
      "green\n"
     ]
    }
   ],
   "source": [
    "alien_0 = {'color': 'green', 'points': 5}\n",
    "print(alien_0['color'])  # Output: green"
   ]
  },
  {
   "cell_type": "markdown",
   "id": "7d68768e",
   "metadata": {},
   "source": [
    "**Adding Key-Value Pairs**"
   ]
  },
  {
   "cell_type": "markdown",
   "id": "18bf3de0",
   "metadata": {},
   "source": [
    "dictionary_name[new_key] = new_value\n"
   ]
  },
  {
   "cell_type": "code",
   "execution_count": 286,
   "id": "7d092967",
   "metadata": {},
   "outputs": [],
   "source": [
    "alien_0['x_position'] = 0\n",
    "alien_0['y_position'] = 25\n"
   ]
  },
  {
   "cell_type": "markdown",
   "id": "efa4cc31",
   "metadata": {},
   "source": [
    "dictionary_name = {}\n",
    "\n",
    "dictionary_name[key_1] = value_1\n",
    "\n",
    "dictionary_name[key_2] = value_2\n"
   ]
  },
  {
   "cell_type": "code",
   "execution_count": 287,
   "id": "840fc31d",
   "metadata": {},
   "outputs": [],
   "source": [
    "alien_0 = {}\n",
    "alien_0['color'] = 'green'\n",
    "alien_0['points'] = 5\n"
   ]
  },
  {
   "cell_type": "markdown",
   "id": "5aea9ab2",
   "metadata": {},
   "source": [
    "Modifying Values\n",
    "\n",
    "\n",
    "To modify a value associated with a key in a dictionary:\n",
    "\n",
    "dictionary_name[key] = new_value"
   ]
  },
  {
   "cell_type": "code",
   "execution_count": 288,
   "id": "42221313",
   "metadata": {},
   "outputs": [],
   "source": [
    "alien_0 = {'color': 'green'}\n",
    "alien_0['color'] = 'yellow'"
   ]
  },
  {
   "cell_type": "markdown",
   "id": "de3aa681",
   "metadata": {},
   "source": [
    "**Removing Key-Value Pairs**\n",
    "\n",
    "del dictionary_name[key]"
   ]
  },
  {
   "cell_type": "code",
   "execution_count": 289,
   "id": "923e0332",
   "metadata": {},
   "outputs": [
    {
     "ename": "KeyError",
     "evalue": "'points'",
     "output_type": "error",
     "traceback": [
      "\u001b[0;31m---------------------------------------------------------------------------\u001b[0m",
      "\u001b[0;31mKeyError\u001b[0m                                  Traceback (most recent call last)",
      "\u001b[1;32m/Users/xiongyihui/Library/CloudStorage/OneDrive-Personal/Docs/Tufts/Fa23/Fa23-CLS-0161-01-Intro to Digital Humanities/cls_161/Fa23-CLS-0161-01-Intro-Dig-Hum/Fa23-CLS-0161-01-Intro-Dig-Hum/Python Exercise/Python Exercise.ipynb Cell 59\u001b[0m line \u001b[0;36m1\n\u001b[0;32m----> <a href='vscode-notebook-cell:/Users/xiongyihui/Library/CloudStorage/OneDrive-Personal/Docs/Tufts/Fa23/Fa23-CLS-0161-01-Intro%20to%20Digital%20Humanities/cls_161/Fa23-CLS-0161-01-Intro-Dig-Hum/Fa23-CLS-0161-01-Intro-Dig-Hum/Python%20Exercise/Python%20Exercise.ipynb#Y131sZmlsZQ%3D%3D?line=0'>1</a>\u001b[0m \u001b[39mdel\u001b[39;00m alien_0[\u001b[39m'\u001b[39;49m\u001b[39mpoints\u001b[39;49m\u001b[39m'\u001b[39;49m]\n",
      "\u001b[0;31mKeyError\u001b[0m: 'points'"
     ]
    }
   ],
   "source": [
    "del alien_0['points']"
   ]
  },
  {
   "cell_type": "code",
   "execution_count": null,
   "id": "352ac395",
   "metadata": {},
   "outputs": [
    {
     "name": "stdout",
     "output_type": "stream",
     "text": [
      "efermi\n"
     ]
    }
   ],
   "source": [
    "user_0 = {'username': 'efermi', 'first': 'enrico', 'last': 'fermi'}\n",
    "print(user_0['username'])  # Output: efermi"
   ]
  },
  {
   "cell_type": "code",
   "execution_count": null,
   "id": "48ea60d9",
   "metadata": {},
   "outputs": [],
   "source": [
    "user_0['score'] = 0\n",
    "user_0['score'] = 5  # Update score"
   ]
  },
  {
   "cell_type": "code",
   "execution_count": null,
   "id": "5621b633",
   "metadata": {},
   "outputs": [],
   "source": [
    "cart = {'item': 'apple', 'price': 1.25}\n",
    "del cart['item']"
   ]
  },
  {
   "cell_type": "code",
   "execution_count": null,
   "id": "cb244439",
   "metadata": {},
   "outputs": [],
   "source": []
  }
 ],
 "metadata": {
  "kernelspec": {
   "display_name": "Python 3 (ipykernel)",
   "language": "python",
   "name": "python3"
  },
  "language_info": {
   "codemirror_mode": {
    "name": "ipython",
    "version": 3
   },
   "file_extension": ".py",
   "mimetype": "text/x-python",
   "name": "python",
   "nbconvert_exporter": "python",
   "pygments_lexer": "ipython3",
   "version": "3.11.4"
  }
 },
 "nbformat": 4,
 "nbformat_minor": 5
}
